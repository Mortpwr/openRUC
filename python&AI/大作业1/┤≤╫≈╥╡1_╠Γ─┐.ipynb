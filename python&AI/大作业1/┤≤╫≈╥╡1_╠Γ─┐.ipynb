{
 "cells": [
  {
   "cell_type": "markdown",
   "metadata": {},
   "source": [
    "# 大作业\n"
   ]
  },
  {
   "cell_type": "code",
   "execution_count": null,
   "metadata": {},
   "outputs": [],
   "source": [
    "\n",
    "from PIL import Image\n",
    "import numpy as np\n",
    "import matplotlib.pyplot as plt\n",
    "\n",
    "#输入图像\n",
    "im = np.array(Image.open('ruc.jpg').convert('L'))\n",
    "plt.imshow(im)\n",
    "plt.show()\n",
    "# im是输入图像转换成的list\n",
    "im = im.tolist()\n",
    "\n",
    "# ker是卷积核对应的list\n",
    "ker = np.array([[1/16,2/16,1/16],[2/16,4/16,2/16],[1/16,2/16,1/16]])\n",
    "\n",
    "ker = ker.tolist()"
   ]
  },
  {
   "cell_type": "code",
   "execution_count": null,
   "metadata": {},
   "outputs": [],
   "source": [
    "def conv2d(im, kernel, stride =1):    \n",
    "    # 请完成本函数代码\n",
    "    h = len(kernel)\n",
    "    w = len(kernel[0])\n",
    "    ih = len(im)\n",
    "    iw = len(im[0])\n",
    "    for i in range(0, h//2 + 1):\n",
    "            kernel[i], kernel[h - i - 1]= kernel[h - i - 1], kernel[i]\n",
    "    for i in range(0, h):\n",
    "            for j in range(0, w//2 + 1):\n",
    "                kernel[i][j], kernel[i][w - j - 1] = kernel[i][w - j - 1], kernel[i][j]\n",
    "    im_out = []\n",
    "    for i in range(0, ih, stride):\n",
    "         if i + h > ih:\n",
    "            break;\n",
    "         im_out.append([])\n",
    "         for j in range(0, iw, stride):\n",
    "              if j + w > iw:\n",
    "                 break;\n",
    "              im_out[len(im_out) - 1].append(0)\n",
    "              for u in range(0, h):\n",
    "                 if i + h > ih  or j + w > iw:\n",
    "                    break;\n",
    "                 for v in range(0, w):\n",
    "                     if i + h > ih  or j + w > iw:\n",
    "                        break;\n",
    "                     else:\n",
    "                        len_last_row = len(im_out) - 1\n",
    "                        last_row = im_out[len_last_row]\n",
    "                        last_row[len(last_row) - 1] = last_row[len(last_row) - 1] + im[i + u][j + v] * kernel[u][v]\n",
    "    return im_out"
   ]
  },
  {
   "cell_type": "code",
   "execution_count": null,
   "metadata": {},
   "outputs": [],
   "source": [
    "# 用ker铺im的处理结果，更改这行参数\n",
    "im_out = conv2d(im,ker,1)\n",
    "\n",
    "#显示处理后的图像\n",
    "print(len(im_out))\n",
    "print(len(im_out[0]))\n",
    "im_out = np.array(im_out)\n",
    "im1 = Image.fromarray(im_out.astype('uint8'))\n",
    "plt.imshow(im1)\n",
    "plt.show()\n",
    "\n"
   ]
  },
  {
   "cell_type": "code",
   "execution_count": null,
   "metadata": {},
   "outputs": [],
   "source": [
    "ker = np.array([[1,1,1,-1,-1],\n",
    "                [1,0,0,0,-1],\n",
    "                [1,0,0,0,-1],\n",
    "                [1,0,0,0,-1],\n",
    "                [1,1,1,-1,-1]])\n",
    "ker2 = ker/25\n",
    "ker2 = ker2.tolist()\n",
    "print(ker2)\n",
    "\n",
    "# 用ker2铺im的处理结果\n",
    "im_out = conv2d(im,ker2,2)\n",
    "\n",
    "# 显示处理后的图像\n",
    "im_out = np.array(im_out)\n",
    "im2 = Image.fromarray(im_out.astype('uint8'))\n",
    "plt.imshow(im2)\n",
    "plt.show()"
   ]
  },
  {
   "cell_type": "code",
   "execution_count": null,
   "metadata": {},
   "outputs": [],
   "source": [
    "k3 =[[1, 0, -1], \n",
    "     [2, 0, -2], \n",
    "    [1, 0, -1]]\n",
    "# 用ker2铺im的处理结果\n",
    "im_out = conv2d(im,k3,1)\n",
    "\n",
    "# 显示处理后的图像\n",
    "im_out = np.array(im_out)\n",
    "im2 = Image.fromarray(im_out.astype('uint8'))\n",
    "plt.imshow(im2)\n",
    "plt.show()"
   ]
  },
  {
   "cell_type": "code",
   "execution_count": null,
   "metadata": {},
   "outputs": [],
   "source": [
    "k3 =[[1, 2, 1], \n",
    "     [0, 0, 0], \n",
    "    [-1, -2, -1]]\n",
    "# 用ker2铺im的处理结果\n",
    "im_out = conv2d(im,k3,1)\n",
    "\n",
    "# 显示处理后的图像\n",
    "im_out = np.array(im_out)\n",
    "im2 = Image.fromarray(im_out.astype('uint8'))\n",
    "plt.imshow(im2)\n",
    "plt.show()"
   ]
  },
  {
   "cell_type": "code",
   "execution_count": null,
   "metadata": {},
   "outputs": [],
   "source": [
    "im = [[ 8, -1, -8,  2,  3, -9, -2,  5,  5,  5, -8],\n",
    "       [ 8,  2, -8, -4,  1,  7,  6, -7,  8, -4, -6],\n",
    "       [ 5,  7, -1,  2,  1, -7, -4,  1, -1,  1,  0],\n",
    "       [-3,  0, -2, -2, -5, -4, -7,  5,  0, -3, -1],\n",
    "       [-5,  0,  3,  1, -1,  4,  8, -2, -3, -8,  5],\n",
    "       [-2, -7, -6, -3, -3, -3,  2,  5, -7,  7,  3],\n",
    "       [ 8, -9, -3,  3,  0, -4, -6, -8,  6, -8, -7],\n",
    "       [-6,  0,  0,  8,  3, -6,  1,  8, -2,  2,  7],\n",
    "       [-4, -8,  6, -3, -9,  2, -5, -4, -9,  0, -5],\n",
    "       [-6,  4, -1,  0, -4,  7,  4,  5,  0, -4, -6],\n",
    "       [ 6,  4,  2, -4,  7,  4,  8, -5, -1, -7, -5]]\n",
    "\n",
    "K = [[ 5, -3,  3,  5,  7],\n",
    "       [ 0, -9,  8, -8, -8],\n",
    "       [ 6,  6,  1, -5,  3],\n",
    "       [-3, -9,  5,  0,  1],\n",
    "       [ 1, -9, -6,  0,  8]]\n",
    "\n",
    "print(conv2d(im, K))\n",
    "#print(conv2d(im, K, 2))"
   ]
  },
  {
   "cell_type": "code",
   "execution_count": null,
   "metadata": {},
   "outputs": [],
   "source": [
    "print(conv2d(im, K, 2))"
   ]
  },
  {
   "cell_type": "code",
   "execution_count": null,
   "metadata": {},
   "outputs": [],
   "source": [
    "im = [[1, 1, 0, 0],\n",
    "             [1, 1, 0, 0],\n",
    "             [0, 0, 1, 1],\n",
    "             [0, 0, 1, 1]]\n",
    "K = [[1, 1],\n",
    "      [1, 1]]\n",
    "print(conv2d(im, K, 2))"
   ]
  },
  {
   "cell_type": "code",
   "execution_count": null,
   "metadata": {},
   "outputs": [],
   "source": []
  }
 ],
 "metadata": {
  "kernelspec": {
   "display_name": "Python 3 (ipykernel)",
   "language": "python",
   "name": "python3"
  },
  "language_info": {
   "codemirror_mode": {
    "name": "ipython",
    "version": 3
   },
   "file_extension": ".py",
   "mimetype": "text/x-python",
   "name": "python",
   "nbconvert_exporter": "python",
   "pygments_lexer": "ipython3",
   "version": "3.12.2"
  }
 },
 "nbformat": 4,
 "nbformat_minor": 4
}
